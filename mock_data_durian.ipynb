{
 "cells": [
  {
   "cell_type": "code",
   "execution_count": 2,
   "metadata": {},
   "outputs": [],
   "source": [
    "import os\n",
    "import pandas as pd\n",
    "from datetime import datetime, timedelta\n",
    "import random"
   ]
  },
  {
   "cell_type": "code",
   "execution_count": 6,
   "metadata": {},
   "outputs": [],
   "source": [
    "# Function to generate random sensor readings for ripe durians\n",
    "def generate_ripe_sensor_reading():\n",
    "    # Generate values above 1 for ripe durians\n",
    "    return round(random.uniform(0.6, 1.5), 2)\n",
    "\n",
    "# Function to generate random sensor readings for unripe durians\n",
    "def generate_unripe_sensor_reading():\n",
    "    # Generate some values below 1 and some above 1 for variety\n",
    "    if random.random() < 0.8:  # Adjust the threshold to control the majority below 1\n",
    "        return round(random.uniform(0.2, 0.8), 2)\n",
    "    else:\n",
    "        return round(random.uniform(1.0, 1.5), 2)"
   ]
  },
  {
   "cell_type": "code",
   "execution_count": 8,
   "metadata": {},
   "outputs": [],
   "source": [
    "# Function to generate mock data for a single CSV\n",
    "def generate_csv_data(is_ripe):\n",
    "    data = []\n",
    "    timestamp = datetime(2023, 11, 30, 12, 0, 0)\n",
    "\n",
    "    for spot_x in range(1, 6):\n",
    "        for spot_y in range(1, 6):\n",
    "            if is_ripe:\n",
    "                reading = generate_ripe_sensor_reading()\n",
    "            else:\n",
    "                reading = generate_unripe_sensor_reading()\n",
    "\n",
    "            data.append([timestamp, spot_x, spot_y, reading])\n",
    "            timestamp += timedelta(minutes=5)\n",
    "\n",
    "    df = pd.DataFrame(data, columns=['timestamp', 'spot_x', 'spot_y', 'sensor_reading'])\n",
    "    return df\n",
    "\n"
   ]
  },
  {
   "cell_type": "code",
   "execution_count": 9,
   "metadata": {},
   "outputs": [],
   "source": [
    "# Create folders for ripe and unripe durians\n",
    "os.makedirs('ripe', exist_ok=True)\n",
    "os.makedirs('unripe', exist_ok=True)\n",
    "\n",
    "# Generate and save 20 CSV files for ripe durians in the 'ripe' folder\n",
    "for i in range(1, 101):\n",
    "    csv_data = generate_csv_data(is_ripe=True)\n",
    "    csv_data.to_csv(os.path.join('ripe', f'ripe_durian_sensor_data_{i}.csv'), index=False)\n",
    "\n",
    "# Generate and save 20 CSV files for unripe durians in the 'unripe' folder\n",
    "for i in range(1, 101):\n",
    "    csv_data = generate_csv_data(is_ripe=False)\n",
    "    csv_data.to_csv(os.path.join('unripe', f'unripe_durian_sensor_data_{i}.csv'), index=False)"
   ]
  }
 ],
 "metadata": {
  "kernelspec": {
   "display_name": "Python 3",
   "language": "python",
   "name": "python3"
  },
  "language_info": {
   "codemirror_mode": {
    "name": "ipython",
    "version": 3
   },
   "file_extension": ".py",
   "mimetype": "text/x-python",
   "name": "python",
   "nbconvert_exporter": "python",
   "pygments_lexer": "ipython3",
   "version": "3.11.5"
  }
 },
 "nbformat": 4,
 "nbformat_minor": 2
}
