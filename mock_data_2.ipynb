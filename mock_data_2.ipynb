{
 "cells": [
  {
   "cell_type": "code",
   "execution_count": 27,
   "metadata": {},
   "outputs": [],
   "source": [
    "import os\n",
    "import pandas as pd\n",
    "from datetime import datetime, timedelta\n",
    "import random"
   ]
  },
  {
   "cell_type": "code",
   "execution_count": 28,
   "metadata": {},
   "outputs": [],
   "source": [
    "# Function to generate random sensor readings for unripe durians\n",
    "def generate_unripe_sensor_reading():\n",
    "    # Generate values within the specified range for unripe durians\n",
    "    return round(random.uniform(100, 200), 2)\n",
    "\n",
    "# Function to generate random sensor readings for ripe durians\n",
    "def generate_ripe_sensor_reading():\n",
    "    # Generate values within the specified range for ripe durians\n",
    "    return round(random.uniform(300, 500), 2)\n",
    "\n",
    "# Function to generate random sensor readings for overripe durians\n",
    "def generate_overripe_sensor_reading():\n",
    "    # Generate values within the specified range for overripe durians\n",
    "    return round(random.uniform(500, 700), 2)\n"
   ]
  },
  {
   "cell_type": "code",
   "execution_count": 29,
   "metadata": {},
   "outputs": [],
   "source": [
    "# Generate unripe durians\n",
    "def generate_unripe_csv_data():\n",
    "    data = []\n",
    "    timestamp = datetime(2023, 11, 30, 12, 0, 0)\n",
    "\n",
    "    for spot_x in range(1, 6):\n",
    "        for spot_y in range(1, 6):\n",
    "            reading = generate_unripe_sensor_reading()\n",
    "            data.append([timestamp, spot_x, spot_y, reading])\n",
    "            timestamp += timedelta(minutes=5)\n",
    "\n",
    "    return pd.DataFrame(data, columns=['timestamp', 'spot_x', 'spot_y', 'sensor_reading'])"
   ]
  },
  {
   "cell_type": "code",
   "execution_count": 30,
   "metadata": {},
   "outputs": [],
   "source": [
    "# Generate ripe durians\n",
    "def generate_ripe_csv_data():\n",
    "    data = []\n",
    "    timestamp = datetime(2023, 11, 30, 12, 0, 0)\n",
    "\n",
    "    for spot_x in range(1, 6):\n",
    "        for spot_y in range(1, 6):\n",
    "            reading = generate_ripe_sensor_reading()\n",
    "            data.append([timestamp, spot_x, spot_y, reading])\n",
    "            timestamp += timedelta(minutes=5)\n",
    "\n",
    "    return pd.DataFrame(data, columns=['timestamp', 'spot_x', 'spot_y', 'sensor_reading'])"
   ]
  },
  {
   "cell_type": "code",
   "execution_count": 31,
   "metadata": {},
   "outputs": [],
   "source": [
    "# Function to generate mock data for a single CSV for overripe durians\n",
    "def generate_overripe_csv_data():\n",
    "    data = []\n",
    "    timestamp = datetime(2023, 11, 30, 12, 0, 0)\n",
    "\n",
    "    for spot_x in range(1, 6):\n",
    "        for spot_y in range(1, 6):\n",
    "            reading = generate_overripe_sensor_reading()\n",
    "            data.append([timestamp, spot_x, spot_y, reading])\n",
    "            timestamp += timedelta(minutes=5)\n",
    "\n",
    "    return pd.DataFrame(data, columns=['timestamp', 'spot_x', 'spot_y', 'sensor_reading'])"
   ]
  },
  {
   "cell_type": "code",
   "execution_count": 32,
   "metadata": {},
   "outputs": [],
   "source": [
    "# Create folders for ripe, unripe, and overripe durians\n",
    "os.makedirs('ripe', exist_ok=True)\n",
    "os.makedirs('unripe', exist_ok=True)\n",
    "os.makedirs('overripe', exist_ok=True)"
   ]
  },
  {
   "cell_type": "code",
   "execution_count": 33,
   "metadata": {},
   "outputs": [],
   "source": [
    "# Generate and save 20 CSV files for ripe durians in the 'ripe' folder\n",
    "for i in range(1, 101):\n",
    "    csv_data = generate_ripe_csv_data()\n",
    "    csv_data.to_csv(os.path.join('ripe', f'ripe_durian_sensor_data_{i}.csv'), index=False)\n",
    "\n",
    "# Generate and save 20 CSV files for unripe durians in the 'unripe' folder\n",
    "for i in range(1, 101):\n",
    "    csv_data = generate_unripe_csv_data()\n",
    "    csv_data.to_csv(os.path.join('unripe', f'unripe_durian_sensor_data_{i}.csv'), index=False)\n",
    "\n",
    "# Generate and save 20 CSV files for overripe durians in the 'overripe' folder\n",
    "for i in range(1, 101):\n",
    "    csv_data = generate_overripe_csv_data()\n",
    "    csv_data.to_csv(os.path.join('overripe', f'overripe_durian_sensor_data_{i}.csv'), index=False)"
   ]
  }
 ],
 "metadata": {
  "kernelspec": {
   "display_name": "Python 3",
   "language": "python",
   "name": "python3"
  },
  "language_info": {
   "codemirror_mode": {
    "name": "ipython",
    "version": 3
   },
   "file_extension": ".py",
   "mimetype": "text/x-python",
   "name": "python",
   "nbconvert_exporter": "python",
   "pygments_lexer": "ipython3",
   "version": "3.11.5"
  }
 },
 "nbformat": 4,
 "nbformat_minor": 2
}
