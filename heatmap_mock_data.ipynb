{
 "cells": [
  {
   "cell_type": "code",
   "execution_count": 2,
   "metadata": {},
   "outputs": [],
   "source": [
    "import os\n",
    "import pandas as pd\n",
    "import seaborn as sns\n",
    "import matplotlib.pyplot as plt"
   ]
  },
  {
   "cell_type": "code",
   "execution_count": 7,
   "metadata": {},
   "outputs": [],
   "source": [
    "# Function to generate heatmap for each CSV file in the specified folder\n",
    "def generate_heatmaps(folder, durian_type, save_path):\n",
    "    os.makedirs(save_path, exist_ok=True)\n",
    "\n",
    "    for filename in os.listdir(folder):\n",
    "        if filename.endswith(\".csv\"):\n",
    "            filepath = os.path.join(folder, filename)\n",
    "            df = pd.read_csv(filepath)\n",
    "\n",
    "            # Pivot the dataframe for heatmap\n",
    "            heatmap_data = df.pivot_table(index=\"spot_x\", columns=\"spot_y\", values=\"sensor_reading\", aggfunc=\"mean\")\n",
    "\n",
    "            # plt.figure(figsize=(400, 400))\n",
    "            # Create heatmap with specified color scale range and no annotations\n",
    "            sns.heatmap(heatmap_data, cmap=\"magma\", annot=False, vmin=0, vmax=2, cbar=False)\n",
    "\n",
    "            # Remove title, axis labels, ticks, and padding\n",
    "            plt.title('')\n",
    "            plt.xlabel('')\n",
    "            plt.ylabel('')\n",
    "            plt.xticks([])\n",
    "            plt.yticks([])\n",
    "            plt.axis('off')\n",
    "\n",
    "            # Save the heatmap as an image file\n",
    "            save_filename = f'{durian_type}_heatmap_{filename.replace(\".csv\", \".png\")}'\n",
    "            save_filepath = os.path.join(save_path, save_filename)\n",
    "            plt.savefig(save_filepath, bbox_inches='tight', pad_inches=0, transparent=True)\n",
    "            plt.close()\n",
    "\n",
    "# Generate and save heatmaps for unripe durians\n",
    "generate_heatmaps('unripe', 'unripe', 'unripe_heatmaps')\n",
    "\n",
    "# Generate and save heatmaps for ripe durians\n",
    "generate_heatmaps('ripe', 'ripe', 'ripe_heatmaps')\n"
   ]
  }
 ],
 "metadata": {
  "kernelspec": {
   "display_name": "Python 3",
   "language": "python",
   "name": "python3"
  },
  "language_info": {
   "codemirror_mode": {
    "name": "ipython",
    "version": 3
   },
   "file_extension": ".py",
   "mimetype": "text/x-python",
   "name": "python",
   "nbconvert_exporter": "python",
   "pygments_lexer": "ipython3",
   "version": "3.11.5"
  }
 },
 "nbformat": 4,
 "nbformat_minor": 2
}
